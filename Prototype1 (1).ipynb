{
  "nbformat": 4,
  "nbformat_minor": 0,
  "metadata": {
    "colab": {
      "provenance": []
    },
    "kernelspec": {
      "name": "python3",
      "display_name": "Python 3"
    },
    "language_info": {
      "name": "python"
    }
  },
  "cells": [
    {
      "cell_type": "code",
      "source": [
        "import numpy as np\n",
        "import pandas as pd\n",
        "import matplotlib.pyplot as plt\n",
        "from keras.preprocessing.image import ImageDataGenerator\n",
        "from keras.layers import Conv2D, MaxPooling2D, Flatten, Dense, Dropout\n",
        "from keras.models import Sequential\n",
        "from keras import optimizers\n",
        "\n",
        "np.random.seed(123)\n",
        "\n",
        "img_width, img_height = 244, 244\n",
        "\n",
        "num_classes = 2\n",
        "\n",
        "batch_size = 32\n",
        "epochs = 30\n",
        "\n",
        "datagenerator = ImageDataGenerator(rescale = 1./255)\n",
        "  \n",
        "train_generator = datagenerator.flow_from_directory(\n",
        "                  'Train',\n",
        "                  target_size =(244, 244),  # target_size = input image size\n",
        "                  batch_size = 20,\n",
        "                  class_mode ='binary')\n",
        "  \n",
        "  \n",
        "test_generator = datagenerator.flow_from_directory(\n",
        "                    'Test',\n",
        "                    target_size =(244, 244),\n",
        "                    batch_size = 20,\n",
        "                    class_mode ='binary')\n",
        "\n",
        "val_generator = datagenerator.flow_from_directory(\n",
        "                    'Validation',\n",
        "                    target_size =(244, 244),\n",
        "                    batch_size = 20,\n",
        "                    class_mode ='binary')\n",
        "                \n"
      ],
      "metadata": {
        "colab": {
          "base_uri": "https://localhost:8080/"
        },
        "id": "nKFKJI2yn6hW",
        "outputId": "eeb242a4-717d-4b1a-f5e9-90c0dfdad0d6"
      },
      "execution_count": 1,
      "outputs": [
        {
          "output_type": "stream",
          "name": "stdout",
          "text": [
            "Found 60 images belonging to 2 classes.\n",
            "Found 30 images belonging to 2 classes.\n",
            "Found 30 images belonging to 2 classes.\n"
          ]
        }
      ]
    },
    {
      "cell_type": "code",
      "source": [
        "def plot(history):\n",
        "  loss = history.history['loss']\n",
        "  val_loss = history.history['val_loss']\n",
        "  epochs = range(1, len(loss) + 1)\n",
        "  plt.plot(epochs, loss, 'y', label='Training loss')\n",
        "  plt.plot(epochs, val_loss, 'r', label='Validation loss')\n",
        "  plt.title('Training and validation loss')\n",
        "  plt.xlabel('Epochs')\n",
        "  plt.ylabel('Loss')\n",
        "  plt.legend()\n",
        "  plt.show()\n",
        "\n",
        "\n",
        "  acc = history.history['accuracy']  #Use accuracy if acc doesn't work\n",
        "  val_acc = history.history['val_accuracy']  #Use val_accuracy if acc doesn't work\n",
        "  plt.plot(epochs, acc, 'y', label='Training acc')\n",
        "  plt.plot(epochs, val_acc, 'r', label='Validation acc')\n",
        "  plt.title('Training and validation accuracy')\n",
        "  plt.xlabel('Epochs')\n",
        "  plt.ylabel('Accuracy')\n",
        "  plt.legend()\n",
        "  plt.show()   "
      ],
      "metadata": {
        "id": "c9Zbt07pLRU6"
      },
      "execution_count": 2,
      "outputs": []
    },
    {
      "cell_type": "code",
      "source": [
        "# Set up the model\n",
        "model = Sequential()\n",
        "\n",
        "model.add(Conv2D(32, kernel_size=(3, 3), activation='relu', input_shape=(img_width, img_height, 3)))\n",
        "\n",
        "model.add(Conv2D(64, kernel_size=(3, 3), activation='relu'))\n",
        "\n",
        "model.add(MaxPooling2D(pool_size=(2, 2)))\n",
        "\n",
        "model.add(Flatten())\n",
        "\n",
        "model.add(Dense(128, activation='relu'))\n",
        "model.add(Dense(1, activation='sigmoid'))\n",
        "\n",
        "# Compile the model\n",
        "model.compile(loss='binary_crossentropy', optimizer='adam', metrics=['accuracy'])\n"
      ],
      "metadata": {
        "id": "6AT0ix6ZsX4o"
      },
      "execution_count": 3,
      "outputs": []
    },
    {
      "cell_type": "code",
      "source": [
        "# Train the model\n",
        "history = model.fit(\n",
        "    train_generator,\n",
        "    epochs=epochs,\n",
        "    validation_data=test_generator,\n",
        "    verbose=1\n",
        ")"
      ],
      "metadata": {
        "colab": {
          "base_uri": "https://localhost:8080/"
        },
        "id": "GAYAp0ZlILlT",
        "outputId": "431a0104-c1f5-46f2-cf32-836610cc2bb5"
      },
      "execution_count": 4,
      "outputs": [
        {
          "output_type": "stream",
          "name": "stdout",
          "text": [
            "Epoch 1/30\n",
            "3/3 [==============================] - 30s 7s/step - loss: 15.4608 - accuracy: 0.5667 - val_loss: 10.5380 - val_accuracy: 0.5000\n",
            "Epoch 2/30\n",
            "3/3 [==============================] - 19s 6s/step - loss: 3.5977 - accuracy: 0.6500 - val_loss: 0.7084 - val_accuracy: 0.6333\n",
            "Epoch 3/30\n",
            "3/3 [==============================] - 18s 6s/step - loss: 0.4595 - accuracy: 0.7167 - val_loss: 0.5763 - val_accuracy: 0.7000\n",
            "Epoch 4/30\n",
            "3/3 [==============================] - 18s 6s/step - loss: 0.1869 - accuracy: 0.9333 - val_loss: 0.5773 - val_accuracy: 0.6667\n",
            "Epoch 5/30\n",
            "3/3 [==============================] - 18s 6s/step - loss: 0.1138 - accuracy: 0.9667 - val_loss: 1.9337 - val_accuracy: 0.5000\n",
            "Epoch 6/30\n",
            "3/3 [==============================] - 22s 7s/step - loss: 0.1176 - accuracy: 0.9667 - val_loss: 1.4533 - val_accuracy: 0.5000\n",
            "Epoch 7/30\n",
            "3/3 [==============================] - 18s 6s/step - loss: 0.0446 - accuracy: 1.0000 - val_loss: 2.0222 - val_accuracy: 0.5000\n",
            "Epoch 8/30\n",
            "3/3 [==============================] - 18s 6s/step - loss: 0.0241 - accuracy: 1.0000 - val_loss: 1.1767 - val_accuracy: 0.6333\n",
            "Epoch 9/30\n",
            "3/3 [==============================] - 18s 6s/step - loss: 0.0171 - accuracy: 1.0000 - val_loss: 1.3742 - val_accuracy: 0.6333\n",
            "Epoch 10/30\n",
            "3/3 [==============================] - 18s 6s/step - loss: 0.0035 - accuracy: 1.0000 - val_loss: 2.0732 - val_accuracy: 0.5333\n",
            "Epoch 11/30\n",
            "3/3 [==============================] - 18s 6s/step - loss: 0.0017 - accuracy: 1.0000 - val_loss: 0.5706 - val_accuracy: 0.7000\n",
            "Epoch 12/30\n",
            "3/3 [==============================] - 18s 6s/step - loss: 9.8019e-04 - accuracy: 1.0000 - val_loss: 2.1849 - val_accuracy: 0.6000\n",
            "Epoch 13/30\n",
            "3/3 [==============================] - 18s 6s/step - loss: 4.9293e-04 - accuracy: 1.0000 - val_loss: 1.0655 - val_accuracy: 0.6667\n",
            "Epoch 14/30\n",
            "3/3 [==============================] - 18s 6s/step - loss: 1.6720e-04 - accuracy: 1.0000 - val_loss: 1.5120 - val_accuracy: 0.6333\n",
            "Epoch 15/30\n",
            "3/3 [==============================] - 18s 6s/step - loss: 4.7685e-05 - accuracy: 1.0000 - val_loss: 2.1608 - val_accuracy: 0.6000\n",
            "Epoch 16/30\n",
            "3/3 [==============================] - 18s 6s/step - loss: 4.0085e-05 - accuracy: 1.0000 - val_loss: 2.4653 - val_accuracy: 0.5667\n",
            "Epoch 17/30\n",
            "3/3 [==============================] - 18s 6s/step - loss: 2.4106e-05 - accuracy: 1.0000 - val_loss: 1.8016 - val_accuracy: 0.6333\n",
            "Epoch 18/30\n",
            "3/3 [==============================] - 18s 6s/step - loss: 2.4897e-05 - accuracy: 1.0000 - val_loss: 1.6002 - val_accuracy: 0.6333\n",
            "Epoch 19/30\n",
            "3/3 [==============================] - 21s 8s/step - loss: 1.3233e-05 - accuracy: 1.0000 - val_loss: 2.2449 - val_accuracy: 0.6000\n",
            "Epoch 20/30\n",
            "3/3 [==============================] - 21s 8s/step - loss: 1.2866e-05 - accuracy: 1.0000 - val_loss: 2.2554 - val_accuracy: 0.6000\n",
            "Epoch 21/30\n",
            "3/3 [==============================] - 18s 6s/step - loss: 8.7543e-06 - accuracy: 1.0000 - val_loss: 2.0461 - val_accuracy: 0.6000\n",
            "Epoch 22/30\n",
            "3/3 [==============================] - 18s 6s/step - loss: 7.9347e-06 - accuracy: 1.0000 - val_loss: 1.6619 - val_accuracy: 0.6333\n",
            "Epoch 23/30\n",
            "3/3 [==============================] - 18s 6s/step - loss: 7.7831e-06 - accuracy: 1.0000 - val_loss: 1.7646 - val_accuracy: 0.6333\n",
            "Epoch 24/30\n",
            "3/3 [==============================] - 18s 6s/step - loss: 5.7336e-06 - accuracy: 1.0000 - val_loss: 2.0306 - val_accuracy: 0.6000\n",
            "Epoch 25/30\n",
            "3/3 [==============================] - 19s 7s/step - loss: 5.0937e-06 - accuracy: 1.0000 - val_loss: 2.3381 - val_accuracy: 0.6000\n",
            "Epoch 26/30\n",
            "3/3 [==============================] - 18s 6s/step - loss: 5.2888e-06 - accuracy: 1.0000 - val_loss: 2.4089 - val_accuracy: 0.6000\n",
            "Epoch 27/30\n",
            "3/3 [==============================] - 18s 6s/step - loss: 4.8084e-06 - accuracy: 1.0000 - val_loss: 2.3350 - val_accuracy: 0.6000\n",
            "Epoch 28/30\n",
            "3/3 [==============================] - 18s 6s/step - loss: 4.1283e-06 - accuracy: 1.0000 - val_loss: 2.1674 - val_accuracy: 0.6000\n",
            "Epoch 29/30\n",
            "3/3 [==============================] - 18s 6s/step - loss: 3.9830e-06 - accuracy: 1.0000 - val_loss: 2.0446 - val_accuracy: 0.6333\n",
            "Epoch 30/30\n",
            "3/3 [==============================] - 21s 8s/step - loss: 4.1133e-06 - accuracy: 1.0000 - val_loss: 2.0558 - val_accuracy: 0.6333\n"
          ]
        }
      ]
    },
    {
      "cell_type": "code",
      "source": [
        "plot(history)"
      ],
      "metadata": {
        "id": "Ux7uaxtdINex",
        "colab": {
          "base_uri": "https://localhost:8080/",
          "height": 573
        },
        "outputId": "8b8985f8-8326-4068-b76e-70c44dd4edf7"
      },
      "execution_count": 5,
      "outputs": [
        {
          "output_type": "display_data",
          "data": {
            "text/plain": [
              "<Figure size 432x288 with 1 Axes>"
            ],
            "image/png": "[encoded data removed]"
          },
          "metadata": {
            "needs_background": "light"
          }
        },
        {
          "output_type": "display_data",
          "data": {
            "text/plain": [
              "<Figure size 432x288 with 1 Axes>"
            ],
            "image/png": "[encoded data removed]"
          },
          "metadata": {
            "needs_background": "light"
          }
        }
      ]
    },
    {
      "cell_type": "code",
      "source": [
        "model.evaluate(val_generator)"
      ],
      "metadata": {
        "colab": {
          "base_uri": "https://localhost:8080/"
        },
        "id": "swx87f4ima4c",
        "outputId": "1324056f-a13e-4e10-d09f-a4f2e36e5896"
      },
      "execution_count": 6,
      "outputs": [
        {
          "output_type": "stream",
          "name": "stdout",
          "text": [
            "2/2 [==============================] - 2s 631ms/step - loss: 2.4294 - accuracy: 0.5333\n"
          ]
        },
        {
          "output_type": "execute_result",
          "data": {
            "text/plain": [
              "[2.429382085800171, 0.5333333611488342]"
            ]
          },
          "metadata": {},
          "execution_count": 6
        }
      ]
    },
    {
      "cell_type": "code",
      "source": [],
      "metadata": {
        "id": "mz5cJnjhvcKW"
      },
      "execution_count": 6,
      "outputs": []
    }
  ]
}